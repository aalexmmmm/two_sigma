{
 "cells": [
  {
   "cell_type": "markdown",
   "id": "055d3813",
   "metadata": {},
   "source": [
    "## Импорт и чтение данных"
   ]
  },
  {
   "cell_type": "code",
   "execution_count": 618,
   "id": "3a576c95",
   "metadata": {},
   "outputs": [],
   "source": [
    "import pandas as pd\n",
    "import numpy as np\n",
    "import matplotlib.pyplot as plt\n",
    "%matplotlib inline\n",
    "import seaborn as sns\n",
    "color = sns.color_palette()\n",
    "\n",
    "pd.options.mode.chained_assignment = None\n",
    "\n",
    "from sklearn.ensemble import RandomForestClassifier\n",
    "from sklearn.model_selection import train_test_split\n",
    "from sklearn.metrics import log_loss"
   ]
  },
  {
   "cell_type": "code",
   "execution_count": 619,
   "id": "5dfd80f4",
   "metadata": {},
   "outputs": [],
   "source": [
    "train_data = pd.read_json(\"C:\\\\Users\\\\Alex\\\\Desktop\\\\two_sigma\\\\train.json\")\n",
    "test_data = pd.read_json(\"C:\\\\Users\\\\Alex\\\\Desktop\\\\two_sigma\\\\test.json\")"
   ]
  },
  {
   "cell_type": "code",
   "execution_count": 620,
   "id": "c4dbc070",
   "metadata": {},
   "outputs": [
    {
     "data": {
      "text/html": [
       "<div>\n",
       "<style scoped>\n",
       "    .dataframe tbody tr th:only-of-type {\n",
       "        vertical-align: middle;\n",
       "    }\n",
       "\n",
       "    .dataframe tbody tr th {\n",
       "        vertical-align: top;\n",
       "    }\n",
       "\n",
       "    .dataframe thead th {\n",
       "        text-align: right;\n",
       "    }\n",
       "</style>\n",
       "<table border=\"1\" class=\"dataframe\">\n",
       "  <thead>\n",
       "    <tr style=\"text-align: right;\">\n",
       "      <th></th>\n",
       "      <th>bathrooms</th>\n",
       "      <th>bedrooms</th>\n",
       "      <th>building_id</th>\n",
       "      <th>created</th>\n",
       "      <th>description</th>\n",
       "      <th>display_address</th>\n",
       "      <th>features</th>\n",
       "      <th>latitude</th>\n",
       "      <th>listing_id</th>\n",
       "      <th>longitude</th>\n",
       "      <th>manager_id</th>\n",
       "      <th>photos</th>\n",
       "      <th>price</th>\n",
       "      <th>street_address</th>\n",
       "      <th>interest_level</th>\n",
       "    </tr>\n",
       "  </thead>\n",
       "  <tbody>\n",
       "    <tr>\n",
       "      <th>4</th>\n",
       "      <td>1.0</td>\n",
       "      <td>1</td>\n",
       "      <td>8579a0b0d54db803821a35a4a615e97a</td>\n",
       "      <td>2016-06-16 05:55:27</td>\n",
       "      <td>Spacious 1 Bedroom 1 Bathroom in Williamsburg!...</td>\n",
       "      <td>145 Borinquen Place</td>\n",
       "      <td>[Dining Room, Pre-War, Laundry in Building, Di...</td>\n",
       "      <td>40.7108</td>\n",
       "      <td>7170325</td>\n",
       "      <td>-73.9539</td>\n",
       "      <td>a10db4590843d78c784171a107bdacb4</td>\n",
       "      <td>[https://photos.renthop.com/2/7170325_3bb5ac84...</td>\n",
       "      <td>2400</td>\n",
       "      <td>145 Borinquen Place</td>\n",
       "      <td>medium</td>\n",
       "    </tr>\n",
       "    <tr>\n",
       "      <th>6</th>\n",
       "      <td>1.0</td>\n",
       "      <td>2</td>\n",
       "      <td>b8e75fc949a6cd8225b455648a951712</td>\n",
       "      <td>2016-06-01 05:44:33</td>\n",
       "      <td>BRAND NEW GUT RENOVATED TRUE 2 BEDROOMFind you...</td>\n",
       "      <td>East 44th</td>\n",
       "      <td>[Doorman, Elevator, Laundry in Building, Dishw...</td>\n",
       "      <td>40.7513</td>\n",
       "      <td>7092344</td>\n",
       "      <td>-73.9722</td>\n",
       "      <td>955db33477af4f40004820b4aed804a0</td>\n",
       "      <td>[https://photos.renthop.com/2/7092344_7663c19a...</td>\n",
       "      <td>3800</td>\n",
       "      <td>230 East 44th</td>\n",
       "      <td>low</td>\n",
       "    </tr>\n",
       "    <tr>\n",
       "      <th>9</th>\n",
       "      <td>1.0</td>\n",
       "      <td>2</td>\n",
       "      <td>cd759a988b8f23924b5a2058d5ab2b49</td>\n",
       "      <td>2016-06-14 15:19:59</td>\n",
       "      <td>**FLEX 2 BEDROOM WITH FULL PRESSURIZED WALL**L...</td>\n",
       "      <td>East 56th Street</td>\n",
       "      <td>[Doorman, Elevator, Laundry in Building, Laund...</td>\n",
       "      <td>40.7575</td>\n",
       "      <td>7158677</td>\n",
       "      <td>-73.9625</td>\n",
       "      <td>c8b10a317b766204f08e613cef4ce7a0</td>\n",
       "      <td>[https://photos.renthop.com/2/7158677_c897a134...</td>\n",
       "      <td>3495</td>\n",
       "      <td>405 East 56th Street</td>\n",
       "      <td>medium</td>\n",
       "    </tr>\n",
       "    <tr>\n",
       "      <th>10</th>\n",
       "      <td>1.5</td>\n",
       "      <td>3</td>\n",
       "      <td>53a5b119ba8f7b61d4e010512e0dfc85</td>\n",
       "      <td>2016-06-24 07:54:24</td>\n",
       "      <td>A Brand New 3 Bedroom 1.5 bath ApartmentEnjoy ...</td>\n",
       "      <td>Metropolitan Avenue</td>\n",
       "      <td>[]</td>\n",
       "      <td>40.7145</td>\n",
       "      <td>7211212</td>\n",
       "      <td>-73.9425</td>\n",
       "      <td>5ba989232d0489da1b5f2c45f6688adc</td>\n",
       "      <td>[https://photos.renthop.com/2/7211212_1ed4542e...</td>\n",
       "      <td>3000</td>\n",
       "      <td>792 Metropolitan Avenue</td>\n",
       "      <td>medium</td>\n",
       "    </tr>\n",
       "    <tr>\n",
       "      <th>15</th>\n",
       "      <td>1.0</td>\n",
       "      <td>0</td>\n",
       "      <td>bfb9405149bfff42a92980b594c28234</td>\n",
       "      <td>2016-06-28 03:50:23</td>\n",
       "      <td>Over-sized Studio w abundant closets. Availabl...</td>\n",
       "      <td>East 34th Street</td>\n",
       "      <td>[Doorman, Elevator, Fitness Center, Laundry in...</td>\n",
       "      <td>40.7439</td>\n",
       "      <td>7225292</td>\n",
       "      <td>-73.9743</td>\n",
       "      <td>2c3b41f588fbb5234d8a1e885a436cfa</td>\n",
       "      <td>[https://photos.renthop.com/2/7225292_901f1984...</td>\n",
       "      <td>2795</td>\n",
       "      <td>340 East 34th Street</td>\n",
       "      <td>low</td>\n",
       "    </tr>\n",
       "  </tbody>\n",
       "</table>\n",
       "</div>"
      ],
      "text/plain": [
       "    bathrooms  bedrooms                       building_id  \\\n",
       "4         1.0         1  8579a0b0d54db803821a35a4a615e97a   \n",
       "6         1.0         2  b8e75fc949a6cd8225b455648a951712   \n",
       "9         1.0         2  cd759a988b8f23924b5a2058d5ab2b49   \n",
       "10        1.5         3  53a5b119ba8f7b61d4e010512e0dfc85   \n",
       "15        1.0         0  bfb9405149bfff42a92980b594c28234   \n",
       "\n",
       "                created                                        description  \\\n",
       "4   2016-06-16 05:55:27  Spacious 1 Bedroom 1 Bathroom in Williamsburg!...   \n",
       "6   2016-06-01 05:44:33  BRAND NEW GUT RENOVATED TRUE 2 BEDROOMFind you...   \n",
       "9   2016-06-14 15:19:59  **FLEX 2 BEDROOM WITH FULL PRESSURIZED WALL**L...   \n",
       "10  2016-06-24 07:54:24  A Brand New 3 Bedroom 1.5 bath ApartmentEnjoy ...   \n",
       "15  2016-06-28 03:50:23  Over-sized Studio w abundant closets. Availabl...   \n",
       "\n",
       "        display_address                                           features  \\\n",
       "4   145 Borinquen Place  [Dining Room, Pre-War, Laundry in Building, Di...   \n",
       "6             East 44th  [Doorman, Elevator, Laundry in Building, Dishw...   \n",
       "9      East 56th Street  [Doorman, Elevator, Laundry in Building, Laund...   \n",
       "10  Metropolitan Avenue                                                 []   \n",
       "15     East 34th Street  [Doorman, Elevator, Fitness Center, Laundry in...   \n",
       "\n",
       "    latitude  listing_id  longitude                        manager_id  \\\n",
       "4    40.7108     7170325   -73.9539  a10db4590843d78c784171a107bdacb4   \n",
       "6    40.7513     7092344   -73.9722  955db33477af4f40004820b4aed804a0   \n",
       "9    40.7575     7158677   -73.9625  c8b10a317b766204f08e613cef4ce7a0   \n",
       "10   40.7145     7211212   -73.9425  5ba989232d0489da1b5f2c45f6688adc   \n",
       "15   40.7439     7225292   -73.9743  2c3b41f588fbb5234d8a1e885a436cfa   \n",
       "\n",
       "                                               photos  price  \\\n",
       "4   [https://photos.renthop.com/2/7170325_3bb5ac84...   2400   \n",
       "6   [https://photos.renthop.com/2/7092344_7663c19a...   3800   \n",
       "9   [https://photos.renthop.com/2/7158677_c897a134...   3495   \n",
       "10  [https://photos.renthop.com/2/7211212_1ed4542e...   3000   \n",
       "15  [https://photos.renthop.com/2/7225292_901f1984...   2795   \n",
       "\n",
       "             street_address interest_level  \n",
       "4       145 Borinquen Place         medium  \n",
       "6             230 East 44th            low  \n",
       "9      405 East 56th Street         medium  \n",
       "10  792 Metropolitan Avenue         medium  \n",
       "15     340 East 34th Street            low  "
      ]
     },
     "execution_count": 620,
     "metadata": {},
     "output_type": "execute_result"
    }
   ],
   "source": [
    "train_data.head()"
   ]
  },
  {
   "cell_type": "code",
   "execution_count": 621,
   "id": "ea4b19bc",
   "metadata": {},
   "outputs": [
    {
     "data": {
      "text/html": [
       "<div>\n",
       "<style scoped>\n",
       "    .dataframe tbody tr th:only-of-type {\n",
       "        vertical-align: middle;\n",
       "    }\n",
       "\n",
       "    .dataframe tbody tr th {\n",
       "        vertical-align: top;\n",
       "    }\n",
       "\n",
       "    .dataframe thead th {\n",
       "        text-align: right;\n",
       "    }\n",
       "</style>\n",
       "<table border=\"1\" class=\"dataframe\">\n",
       "  <thead>\n",
       "    <tr style=\"text-align: right;\">\n",
       "      <th></th>\n",
       "      <th>bathrooms</th>\n",
       "      <th>bedrooms</th>\n",
       "      <th>building_id</th>\n",
       "      <th>created</th>\n",
       "      <th>description</th>\n",
       "      <th>display_address</th>\n",
       "      <th>features</th>\n",
       "      <th>latitude</th>\n",
       "      <th>listing_id</th>\n",
       "      <th>longitude</th>\n",
       "      <th>manager_id</th>\n",
       "      <th>photos</th>\n",
       "      <th>price</th>\n",
       "      <th>street_address</th>\n",
       "    </tr>\n",
       "  </thead>\n",
       "  <tbody>\n",
       "    <tr>\n",
       "      <th>0</th>\n",
       "      <td>1.0</td>\n",
       "      <td>1</td>\n",
       "      <td>79780be1514f645d7e6be99a3de696c5</td>\n",
       "      <td>2016-06-11 05:29:41</td>\n",
       "      <td>Large with awesome terrace--accessible via bed...</td>\n",
       "      <td>Suffolk Street</td>\n",
       "      <td>[Elevator, Laundry in Building, Laundry in Uni...</td>\n",
       "      <td>40.7185</td>\n",
       "      <td>7142618</td>\n",
       "      <td>-73.9865</td>\n",
       "      <td>b1b1852c416d78d7765d746cb1b8921f</td>\n",
       "      <td>[https://photos.renthop.com/2/7142618_1c45a2c8...</td>\n",
       "      <td>2950</td>\n",
       "      <td>99 Suffolk Street</td>\n",
       "    </tr>\n",
       "    <tr>\n",
       "      <th>1</th>\n",
       "      <td>1.0</td>\n",
       "      <td>2</td>\n",
       "      <td>0</td>\n",
       "      <td>2016-06-24 06:36:34</td>\n",
       "      <td>Prime Soho - between Bleecker and Houston - Ne...</td>\n",
       "      <td>Thompson Street</td>\n",
       "      <td>[Pre-War, Dogs Allowed, Cats Allowed]</td>\n",
       "      <td>40.7278</td>\n",
       "      <td>7210040</td>\n",
       "      <td>-74.0000</td>\n",
       "      <td>d0b5648017832b2427eeb9956d966a14</td>\n",
       "      <td>[https://photos.renthop.com/2/7210040_d824cc71...</td>\n",
       "      <td>2850</td>\n",
       "      <td>176 Thompson Street</td>\n",
       "    </tr>\n",
       "    <tr>\n",
       "      <th>2</th>\n",
       "      <td>1.0</td>\n",
       "      <td>0</td>\n",
       "      <td>0</td>\n",
       "      <td>2016-06-17 01:23:39</td>\n",
       "      <td>Spacious studio in Prime Location. Cleanbuildi...</td>\n",
       "      <td>Sullivan Street</td>\n",
       "      <td>[Pre-War, Dogs Allowed, Cats Allowed]</td>\n",
       "      <td>40.7260</td>\n",
       "      <td>7174566</td>\n",
       "      <td>-74.0026</td>\n",
       "      <td>e6472c7237327dd3903b3d6f6a94515a</td>\n",
       "      <td>[https://photos.renthop.com/2/7174566_ba3a35c5...</td>\n",
       "      <td>2295</td>\n",
       "      <td>115 Sullivan Street</td>\n",
       "    </tr>\n",
       "    <tr>\n",
       "      <th>3</th>\n",
       "      <td>1.0</td>\n",
       "      <td>2</td>\n",
       "      <td>f9c826104b91d868e69bd25746448c0c</td>\n",
       "      <td>2016-06-21 05:06:02</td>\n",
       "      <td>For immediate access call Bryan.&lt;br /&gt;&lt;br /&gt;Bo...</td>\n",
       "      <td>Jones Street</td>\n",
       "      <td>[Hardwood Floors, Dogs Allowed, Cats Allowed]</td>\n",
       "      <td>40.7321</td>\n",
       "      <td>7191391</td>\n",
       "      <td>-74.0028</td>\n",
       "      <td>41735645e0f8f13993c42894023f8e58</td>\n",
       "      <td>[https://photos.renthop.com/2/7191391_8c2f2d49...</td>\n",
       "      <td>2900</td>\n",
       "      <td>23 Jones Street</td>\n",
       "    </tr>\n",
       "    <tr>\n",
       "      <th>5</th>\n",
       "      <td>1.0</td>\n",
       "      <td>1</td>\n",
       "      <td>81062936e12ee5fa6cd2b965698e17d5</td>\n",
       "      <td>2016-06-16 07:24:27</td>\n",
       "      <td>Beautiful TRUE 1 bedroom in a luxury building ...</td>\n",
       "      <td>Exchange Place</td>\n",
       "      <td>[Roof Deck, Doorman, Elevator, Fitness Center,...</td>\n",
       "      <td>40.7054</td>\n",
       "      <td>7171695</td>\n",
       "      <td>-74.0095</td>\n",
       "      <td>a742cf7dd3b2627d83417bc3a1b3ec96</td>\n",
       "      <td>[https://photos.renthop.com/2/7171695_089ffee2...</td>\n",
       "      <td>3254</td>\n",
       "      <td>20 Exchange Place</td>\n",
       "    </tr>\n",
       "  </tbody>\n",
       "</table>\n",
       "</div>"
      ],
      "text/plain": [
       "   bathrooms  bedrooms                       building_id              created  \\\n",
       "0        1.0         1  79780be1514f645d7e6be99a3de696c5  2016-06-11 05:29:41   \n",
       "1        1.0         2                                 0  2016-06-24 06:36:34   \n",
       "2        1.0         0                                 0  2016-06-17 01:23:39   \n",
       "3        1.0         2  f9c826104b91d868e69bd25746448c0c  2016-06-21 05:06:02   \n",
       "5        1.0         1  81062936e12ee5fa6cd2b965698e17d5  2016-06-16 07:24:27   \n",
       "\n",
       "                                         description  display_address  \\\n",
       "0  Large with awesome terrace--accessible via bed...   Suffolk Street   \n",
       "1  Prime Soho - between Bleecker and Houston - Ne...  Thompson Street   \n",
       "2  Spacious studio in Prime Location. Cleanbuildi...  Sullivan Street   \n",
       "3  For immediate access call Bryan.<br /><br />Bo...     Jones Street   \n",
       "5  Beautiful TRUE 1 bedroom in a luxury building ...   Exchange Place   \n",
       "\n",
       "                                            features  latitude  listing_id  \\\n",
       "0  [Elevator, Laundry in Building, Laundry in Uni...   40.7185     7142618   \n",
       "1              [Pre-War, Dogs Allowed, Cats Allowed]   40.7278     7210040   \n",
       "2              [Pre-War, Dogs Allowed, Cats Allowed]   40.7260     7174566   \n",
       "3      [Hardwood Floors, Dogs Allowed, Cats Allowed]   40.7321     7191391   \n",
       "5  [Roof Deck, Doorman, Elevator, Fitness Center,...   40.7054     7171695   \n",
       "\n",
       "   longitude                        manager_id  \\\n",
       "0   -73.9865  b1b1852c416d78d7765d746cb1b8921f   \n",
       "1   -74.0000  d0b5648017832b2427eeb9956d966a14   \n",
       "2   -74.0026  e6472c7237327dd3903b3d6f6a94515a   \n",
       "3   -74.0028  41735645e0f8f13993c42894023f8e58   \n",
       "5   -74.0095  a742cf7dd3b2627d83417bc3a1b3ec96   \n",
       "\n",
       "                                              photos  price  \\\n",
       "0  [https://photos.renthop.com/2/7142618_1c45a2c8...   2950   \n",
       "1  [https://photos.renthop.com/2/7210040_d824cc71...   2850   \n",
       "2  [https://photos.renthop.com/2/7174566_ba3a35c5...   2295   \n",
       "3  [https://photos.renthop.com/2/7191391_8c2f2d49...   2900   \n",
       "5  [https://photos.renthop.com/2/7171695_089ffee2...   3254   \n",
       "\n",
       "        street_address  \n",
       "0    99 Suffolk Street  \n",
       "1  176 Thompson Street  \n",
       "2  115 Sullivan Street  \n",
       "3      23 Jones Street  \n",
       "5    20 Exchange Place  "
      ]
     },
     "execution_count": 621,
     "metadata": {},
     "output_type": "execute_result"
    }
   ],
   "source": [
    "test_data.head()"
   ]
  },
  {
   "cell_type": "code",
   "execution_count": 622,
   "id": "c250fca9",
   "metadata": {},
   "outputs": [
    {
     "name": "stdout",
     "output_type": "stream",
     "text": [
      "Train-data size = (49352, 15)\n",
      "Test-data size = (74659, 14)\n"
     ]
    }
   ],
   "source": [
    "print(f'Train-data size = {train_data.shape}')\n",
    "print(f'Test-data size = {test_data.shape}')"
   ]
  },
  {
   "cell_type": "code",
   "execution_count": 623,
   "id": "2727a437",
   "metadata": {},
   "outputs": [
    {
     "name": "stdout",
     "output_type": "stream",
     "text": [
      "<class 'pandas.core.frame.DataFrame'>\n",
      "Int64Index: 49352 entries, 4 to 124009\n",
      "Data columns (total 15 columns):\n",
      " #   Column           Non-Null Count  Dtype  \n",
      "---  ------           --------------  -----  \n",
      " 0   bathrooms        49352 non-null  float64\n",
      " 1   bedrooms         49352 non-null  int64  \n",
      " 2   building_id      49352 non-null  object \n",
      " 3   created          49352 non-null  object \n",
      " 4   description      49352 non-null  object \n",
      " 5   display_address  49352 non-null  object \n",
      " 6   features         49352 non-null  object \n",
      " 7   latitude         49352 non-null  float64\n",
      " 8   listing_id       49352 non-null  int64  \n",
      " 9   longitude        49352 non-null  float64\n",
      " 10  manager_id       49352 non-null  object \n",
      " 11  photos           49352 non-null  object \n",
      " 12  price            49352 non-null  int64  \n",
      " 13  street_address   49352 non-null  object \n",
      " 14  interest_level   49352 non-null  object \n",
      "dtypes: float64(3), int64(3), object(9)\n",
      "memory usage: 6.0+ MB\n"
     ]
    }
   ],
   "source": [
    "train_data.info()"
   ]
  },
  {
   "cell_type": "code",
   "execution_count": 624,
   "id": "ff702d5a",
   "metadata": {},
   "outputs": [
    {
     "name": "stdout",
     "output_type": "stream",
     "text": [
      "<class 'pandas.core.frame.DataFrame'>\n",
      "Int64Index: 74659 entries, 0 to 124010\n",
      "Data columns (total 14 columns):\n",
      " #   Column           Non-Null Count  Dtype  \n",
      "---  ------           --------------  -----  \n",
      " 0   bathrooms        74659 non-null  float64\n",
      " 1   bedrooms         74659 non-null  int64  \n",
      " 2   building_id      74659 non-null  object \n",
      " 3   created          74659 non-null  object \n",
      " 4   description      74659 non-null  object \n",
      " 5   display_address  74659 non-null  object \n",
      " 6   features         74659 non-null  object \n",
      " 7   latitude         74659 non-null  float64\n",
      " 8   listing_id       74659 non-null  int64  \n",
      " 9   longitude        74659 non-null  float64\n",
      " 10  manager_id       74659 non-null  object \n",
      " 11  photos           74659 non-null  object \n",
      " 12  price            74659 non-null  int64  \n",
      " 13  street_address   74659 non-null  object \n",
      "dtypes: float64(3), int64(3), object(8)\n",
      "memory usage: 8.5+ MB\n"
     ]
    }
   ],
   "source": [
    "test_data.info()"
   ]
  },
  {
   "cell_type": "code",
   "execution_count": 625,
   "id": "241034f9",
   "metadata": {},
   "outputs": [
    {
     "data": {
      "text/html": [
       "<div>\n",
       "<style scoped>\n",
       "    .dataframe tbody tr th:only-of-type {\n",
       "        vertical-align: middle;\n",
       "    }\n",
       "\n",
       "    .dataframe tbody tr th {\n",
       "        vertical-align: top;\n",
       "    }\n",
       "\n",
       "    .dataframe thead th {\n",
       "        text-align: right;\n",
       "    }\n",
       "</style>\n",
       "<table border=\"1\" class=\"dataframe\">\n",
       "  <thead>\n",
       "    <tr style=\"text-align: right;\">\n",
       "      <th></th>\n",
       "      <th>bathrooms</th>\n",
       "      <th>bedrooms</th>\n",
       "      <th>latitude</th>\n",
       "      <th>listing_id</th>\n",
       "      <th>longitude</th>\n",
       "      <th>price</th>\n",
       "    </tr>\n",
       "  </thead>\n",
       "  <tbody>\n",
       "    <tr>\n",
       "      <th>count</th>\n",
       "      <td>49352.00000</td>\n",
       "      <td>49352.000000</td>\n",
       "      <td>49352.000000</td>\n",
       "      <td>4.935200e+04</td>\n",
       "      <td>49352.000000</td>\n",
       "      <td>4.935200e+04</td>\n",
       "    </tr>\n",
       "    <tr>\n",
       "      <th>mean</th>\n",
       "      <td>1.21218</td>\n",
       "      <td>1.541640</td>\n",
       "      <td>40.741545</td>\n",
       "      <td>7.024055e+06</td>\n",
       "      <td>-73.955716</td>\n",
       "      <td>3.830174e+03</td>\n",
       "    </tr>\n",
       "    <tr>\n",
       "      <th>std</th>\n",
       "      <td>0.50142</td>\n",
       "      <td>1.115018</td>\n",
       "      <td>0.638535</td>\n",
       "      <td>1.262746e+05</td>\n",
       "      <td>1.177912</td>\n",
       "      <td>2.206687e+04</td>\n",
       "    </tr>\n",
       "    <tr>\n",
       "      <th>min</th>\n",
       "      <td>0.00000</td>\n",
       "      <td>0.000000</td>\n",
       "      <td>0.000000</td>\n",
       "      <td>6.811957e+06</td>\n",
       "      <td>-118.271000</td>\n",
       "      <td>4.300000e+01</td>\n",
       "    </tr>\n",
       "    <tr>\n",
       "      <th>25%</th>\n",
       "      <td>1.00000</td>\n",
       "      <td>1.000000</td>\n",
       "      <td>40.728300</td>\n",
       "      <td>6.915888e+06</td>\n",
       "      <td>-73.991700</td>\n",
       "      <td>2.500000e+03</td>\n",
       "    </tr>\n",
       "    <tr>\n",
       "      <th>50%</th>\n",
       "      <td>1.00000</td>\n",
       "      <td>1.000000</td>\n",
       "      <td>40.751800</td>\n",
       "      <td>7.021070e+06</td>\n",
       "      <td>-73.977900</td>\n",
       "      <td>3.150000e+03</td>\n",
       "    </tr>\n",
       "    <tr>\n",
       "      <th>75%</th>\n",
       "      <td>1.00000</td>\n",
       "      <td>2.000000</td>\n",
       "      <td>40.774300</td>\n",
       "      <td>7.128733e+06</td>\n",
       "      <td>-73.954800</td>\n",
       "      <td>4.100000e+03</td>\n",
       "    </tr>\n",
       "    <tr>\n",
       "      <th>max</th>\n",
       "      <td>10.00000</td>\n",
       "      <td>8.000000</td>\n",
       "      <td>44.883500</td>\n",
       "      <td>7.753784e+06</td>\n",
       "      <td>0.000000</td>\n",
       "      <td>4.490000e+06</td>\n",
       "    </tr>\n",
       "  </tbody>\n",
       "</table>\n",
       "</div>"
      ],
      "text/plain": [
       "         bathrooms      bedrooms      latitude    listing_id     longitude  \\\n",
       "count  49352.00000  49352.000000  49352.000000  4.935200e+04  49352.000000   \n",
       "mean       1.21218      1.541640     40.741545  7.024055e+06    -73.955716   \n",
       "std        0.50142      1.115018      0.638535  1.262746e+05      1.177912   \n",
       "min        0.00000      0.000000      0.000000  6.811957e+06   -118.271000   \n",
       "25%        1.00000      1.000000     40.728300  6.915888e+06    -73.991700   \n",
       "50%        1.00000      1.000000     40.751800  7.021070e+06    -73.977900   \n",
       "75%        1.00000      2.000000     40.774300  7.128733e+06    -73.954800   \n",
       "max       10.00000      8.000000     44.883500  7.753784e+06      0.000000   \n",
       "\n",
       "              price  \n",
       "count  4.935200e+04  \n",
       "mean   3.830174e+03  \n",
       "std    2.206687e+04  \n",
       "min    4.300000e+01  \n",
       "25%    2.500000e+03  \n",
       "50%    3.150000e+03  \n",
       "75%    4.100000e+03  \n",
       "max    4.490000e+06  "
      ]
     },
     "execution_count": 625,
     "metadata": {},
     "output_type": "execute_result"
    }
   ],
   "source": [
    "train_data.describe()"
   ]
  },
  {
   "cell_type": "markdown",
   "id": "b02fb9dc",
   "metadata": {},
   "source": [
    "## Визуализация данных"
   ]
  },
  {
   "cell_type": "code",
   "execution_count": 626,
   "id": "62268a8b",
   "metadata": {},
   "outputs": [
    {
     "name": "stderr",
     "output_type": "stream",
     "text": [
      "C:\\Users\\Alex\\.virtualenvs\\two_sigma-X8MhgjZs\\lib\\site-packages\\seaborn\\_decorators.py:36: FutureWarning: Pass the following variables as keyword args: x, y. From version 0.12, the only valid positional argument will be `data`, and passing other arguments without an explicit keyword will result in an error or misinterpretation.\n",
      "  warnings.warn(\n"
     ]
    },
    {
     "data": {
      "image/png": "[encoded data removed]",
      "text/plain": [
       "<Figure size 576x288 with 1 Axes>"
      ]
     },
     "metadata": {
      "needs_background": "light"
     },
     "output_type": "display_data"
    }
   ],
   "source": [
    "# Визуализация целевой переменной\n",
    "\n",
    "int_level = train_data['interest_level'].value_counts()\n",
    "\n",
    "plt.figure(figsize=(8,4))\n",
    "sns.barplot(int_level.index, int_level.values, alpha=0.8, color=color[1])\n",
    "plt.ylabel('Number of Occurrences', fontsize=12)\n",
    "plt.xlabel('Interest level', fontsize=12)\n",
    "plt.show()"
   ]
  },
  {
   "cell_type": "code",
   "execution_count": 627,
   "id": "b6bf4fba",
   "metadata": {},
   "outputs": [
    {
     "data": {
      "image/png": "[encoded data removed]",
      "text/plain": [
       "<Figure size 432x288 with 1 Axes>"
      ]
     },
     "metadata": {},
     "output_type": "display_data"
    }
   ],
   "source": [
    "labels = [\"low\",\"medium\",\"high\"]\n",
    "sizes = train_data.interest_level.value_counts().values\n",
    "explode = [0.1,0,0]\n",
    "colors = ['lightcoral','gold','lightblue']\n",
    "patches, texts, autotexts= plt.pie(sizes, labels=labels,colors=colors,explode=explode,autopct=\"%1.1f%%\",startangle=90)\n",
    "plt.title(\"Interest Level\")\n",
    "plt.show()"
   ]
  },
  {
   "cell_type": "markdown",
   "id": "a188cced",
   "metadata": {},
   "source": [
    "Для большинства случаев уровень интереса низкий, затем следует средний уровень. Объявлений с высоким уровнем интереса очень мало."
   ]
  },
  {
   "cell_type": "code",
   "execution_count": 628,
   "id": "741419d1",
   "metadata": {},
   "outputs": [
    {
     "name": "stderr",
     "output_type": "stream",
     "text": [
      "C:\\Users\\Alex\\.virtualenvs\\two_sigma-X8MhgjZs\\lib\\site-packages\\seaborn\\_decorators.py:36: FutureWarning: Pass the following variables as keyword args: x, y. From version 0.12, the only valid positional argument will be `data`, and passing other arguments without an explicit keyword will result in an error or misinterpretation.\n",
      "  warnings.warn(\n"
     ]
    },
    {
     "data": {
      "image/png": "[encoded data removed]",
      "text/plain": [
       "<Figure size 576x288 with 1 Axes>"
      ]
     },
     "metadata": {
      "needs_background": "light"
     },
     "output_type": "display_data"
    }
   ],
   "source": [
    "# Визуализация bathrooms\n",
    "\n",
    "cnt_srs = train_data['bathrooms'].value_counts()\n",
    "\n",
    "plt.figure(figsize=(8,4))\n",
    "sns.barplot(cnt_srs.index, cnt_srs.values, alpha=0.8, color=color[0])\n",
    "plt.ylabel('Number of Occurrences', fontsize=12)\n",
    "plt.xlabel('bathrooms', fontsize=12)\n",
    "plt.show()"
   ]
  },
  {
   "cell_type": "code",
   "execution_count": 629,
   "id": "e0455065",
   "metadata": {},
   "outputs": [
    {
     "data": {
      "image/png": "[encoded data removed]",
      "text/plain": [
       "<Figure size 576x288 with 1 Axes>"
      ]
     },
     "metadata": {
      "needs_background": "light"
     },
     "output_type": "display_data"
    }
   ],
   "source": [
    "train_data['bathrooms'].iloc[train_data['bathrooms']>3] = 3\n",
    "plt.figure(figsize=(8,4))\n",
    "sns.violinplot(x='interest_level', y='bathrooms', data=train_data)\n",
    "plt.xlabel('Interest level', fontsize=12)\n",
    "plt.ylabel('bathrooms', fontsize=12)\n",
    "plt.show()"
   ]
  },
  {
   "cell_type": "markdown",
   "id": "207abc55",
   "metadata": {},
   "source": [
    "Данные о ванных комнатах равномерно распределены по уровням интереса."
   ]
  },
  {
   "cell_type": "code",
   "execution_count": 630,
   "id": "88ac719a",
   "metadata": {},
   "outputs": [
    {
     "name": "stderr",
     "output_type": "stream",
     "text": [
      "C:\\Users\\Alex\\.virtualenvs\\two_sigma-X8MhgjZs\\lib\\site-packages\\seaborn\\_decorators.py:36: FutureWarning: Pass the following variables as keyword args: x, y. From version 0.12, the only valid positional argument will be `data`, and passing other arguments without an explicit keyword will result in an error or misinterpretation.\n",
      "  warnings.warn(\n"
     ]
    },
    {
     "data": {
      "image/png": "[encoded data removed]",
      "text/plain": [
       "<Figure size 576x288 with 1 Axes>"
      ]
     },
     "metadata": {
      "needs_background": "light"
     },
     "output_type": "display_data"
    }
   ],
   "source": [
    "# Визуализация bedrooms\n",
    "\n",
    "cnt_srs = train_data['bedrooms'].value_counts()\n",
    "\n",
    "plt.figure(figsize=(8,4))\n",
    "sns.barplot(cnt_srs.index, cnt_srs.values, alpha=0.8, color=color[2])\n",
    "plt.ylabel('Number of Occurrences', fontsize=12)\n",
    "plt.xlabel('bedrooms', fontsize=12)\n",
    "plt.show()"
   ]
  },
  {
   "cell_type": "code",
   "execution_count": 631,
   "id": "ed4b7b43",
   "metadata": {},
   "outputs": [
    {
     "data": {
      "image/png": "[encoded data removed]",
      "text/plain": [
       "<Figure size 576x432 with 1 Axes>"
      ]
     },
     "metadata": {
      "needs_background": "light"
     },
     "output_type": "display_data"
    }
   ],
   "source": [
    "plt.figure(figsize=(8,6))\n",
    "sns.countplot(x='bedrooms', hue='interest_level', data=train_data)\n",
    "plt.ylabel('Number of Occurrences', fontsize=12)\n",
    "plt.xlabel('bedrooms', fontsize=12)\n",
    "plt.title('bedhrooms и interest_level')\n",
    "plt.show()"
   ]
  },
  {
   "cell_type": "markdown",
   "id": "995931cb",
   "metadata": {},
   "source": [
    "Данные о спальных комнатах равномерно распределены по уровням интереса."
   ]
  },
  {
   "cell_type": "code",
   "execution_count": 632,
   "id": "a7b13dc2",
   "metadata": {},
   "outputs": [
    {
     "data": {
      "image/png": "[encoded data removed]",
      "text/plain": [
       "<Figure size 576x432 with 1 Axes>"
      ]
     },
     "metadata": {
      "needs_background": "light"
     },
     "output_type": "display_data"
    }
   ],
   "source": [
    "# Визуализация переменной price\n",
    "\n",
    "plt.figure(figsize=(8,6))\n",
    "plt.scatter(range(train_data.shape[0]), np.sort(train_data.price.values))\n",
    "plt.xlabel('index', fontsize=12)\n",
    "plt.ylabel('price', fontsize=12)\n",
    "plt.show()"
   ]
  },
  {
   "cell_type": "markdown",
   "id": "3ef8ea94",
   "metadata": {},
   "source": [
    "На графике присутствуют выбросы, их удаляем и снова строим график."
   ]
  },
  {
   "cell_type": "code",
   "execution_count": 633,
   "id": "a1f3a3fe",
   "metadata": {},
   "outputs": [
    {
     "name": "stderr",
     "output_type": "stream",
     "text": [
      "C:\\Users\\Alex\\.virtualenvs\\two_sigma-X8MhgjZs\\lib\\site-packages\\seaborn\\distributions.py:2619: FutureWarning: `distplot` is a deprecated function and will be removed in a future version. Please adapt your code to use either `displot` (a figure-level function with similar flexibility) or `histplot` (an axes-level function for histograms).\n",
      "  warnings.warn(msg, FutureWarning)\n"
     ]
    },
    {
     "data": {
      "image/png": "[encoded data removed]",
      "text/plain": [
       "<Figure size 576x432 with 1 Axes>"
      ]
     },
     "metadata": {
      "needs_background": "light"
     },
     "output_type": "display_data"
    }
   ],
   "source": [
    "ulimit = np.percentile(train_data.price.values, 99)\n",
    "train_data['price'].iloc[train_data['price']>ulimit] = ulimit\n",
    "\n",
    "plt.figure(figsize=(8,6))\n",
    "sns.distplot(train_data.price.values, bins=50, kde=True)\n",
    "plt.xlabel('price', fontsize=12)\n",
    "plt.show()"
   ]
  },
  {
   "cell_type": "markdown",
   "id": "331ca014",
   "metadata": {},
   "source": [
    "Распределение смещено вправо."
   ]
  },
  {
   "cell_type": "code",
   "execution_count": 634,
   "id": "9a0281b8",
   "metadata": {},
   "outputs": [
    {
     "name": "stderr",
     "output_type": "stream",
     "text": [
      "C:\\Users\\Alex\\.virtualenvs\\two_sigma-X8MhgjZs\\lib\\site-packages\\seaborn\\_decorators.py:36: FutureWarning: Pass the following variables as keyword args: x, y. From version 0.12, the only valid positional argument will be `data`, and passing other arguments without an explicit keyword will result in an error or misinterpretation.\n",
      "  warnings.warn(\n"
     ]
    },
    {
     "data": {
      "image/png": "[encoded data removed]",
      "text/plain": [
       "<Figure size 432x288 with 1 Axes>"
      ]
     },
     "metadata": {
      "needs_background": "light"
     },
     "output_type": "display_data"
    }
   ],
   "source": [
    "order = ['low', 'medium', 'high']\n",
    "sns.stripplot(train_data[\"interest_level\"],train_data[\"price\"],jitter=True,order=order)\n",
    "plt.title(\"Price и Interest_level\");"
   ]
  },
  {
   "cell_type": "code",
   "execution_count": 635,
   "id": "189819ed",
   "metadata": {},
   "outputs": [
    {
     "name": "stderr",
     "output_type": "stream",
     "text": [
      "C:\\Users\\Alex\\.virtualenvs\\two_sigma-X8MhgjZs\\lib\\site-packages\\seaborn\\distributions.py:2619: FutureWarning: `distplot` is a deprecated function and will be removed in a future version. Please adapt your code to use either `displot` (a figure-level function with similar flexibility) or `histplot` (an axes-level function for histograms).\n",
      "  warnings.warn(msg, FutureWarning)\n"
     ]
    },
    {
     "data": {
      "image/png": "[encoded data removed]",
      "text/plain": [
       "<Figure size 576x432 with 1 Axes>"
      ]
     },
     "metadata": {
      "needs_background": "light"
     },
     "output_type": "display_data"
    }
   ],
   "source": [
    "# Latitude и Longitude\n",
    "\n",
    "llimit = np.percentile(train_data.latitude.values, 1)\n",
    "ulimit = np.percentile(train_data.latitude.values, 99)\n",
    "train_data['latitude'].iloc[train_data['latitude']<llimit] = llimit\n",
    "train_data['latitude'].iloc[train_data['latitude']>ulimit] = ulimit\n",
    "\n",
    "plt.figure(figsize=(8,6))\n",
    "sns.distplot(train_data.latitude.values, bins=50, kde=False)\n",
    "plt.xlabel('latitude', fontsize=12)\n",
    "plt.show()"
   ]
  },
  {
   "cell_type": "markdown",
   "id": "27f15b30",
   "metadata": {},
   "source": [
    "Значения широты в основном находятся между 40.6 и 40.9."
   ]
  },
  {
   "cell_type": "code",
   "execution_count": 636,
   "id": "a8dcad64",
   "metadata": {},
   "outputs": [
    {
     "data": {
      "image/png": "[encoded data removed]",
      "text/plain": [
       "<Figure size 576x432 with 1 Axes>"
      ]
     },
     "metadata": {
      "needs_background": "light"
     },
     "output_type": "display_data"
    }
   ],
   "source": [
    "llimit = np.percentile(train_data.longitude.values, 1)\n",
    "ulimit = np.percentile(train_data.longitude.values, 99)\n",
    "train_data['longitude'].iloc[train_data['longitude']<llimit] = llimit\n",
    "train_data['longitude'].iloc[train_data['longitude']>ulimit] = ulimit\n",
    "\n",
    "plt.figure(figsize=(8,6))\n",
    "sns.distplot(train_data.longitude.values, bins=50, kde=False)\n",
    "plt.xlabel('longitude', fontsize=12)\n",
    "plt.show()"
   ]
  },
  {
   "cell_type": "markdown",
   "id": "9abac31e",
   "metadata": {},
   "source": [
    "Значения долготы находятся между -73.8 и -74.02."
   ]
  },
  {
   "cell_type": "code",
   "execution_count": 637,
   "id": "2746b180",
   "metadata": {},
   "outputs": [
    {
     "data": {
      "image/png": "[encoded data removed]",
      "text/plain": [
       "<Figure size 864x288 with 1 Axes>"
      ]
     },
     "metadata": {
      "needs_background": "light"
     },
     "output_type": "display_data"
    }
   ],
   "source": [
    "# Визуализация переменной created\n",
    "\n",
    "train_data[\"created\"] = pd.to_datetime(train_data[\"created\"])\n",
    "train_data[\"date_created\"] = train_data[\"created\"].dt.date\n",
    "cnt_srs = train_data['date_created'].value_counts()\n",
    "\n",
    "\n",
    "plt.figure(figsize=(12,4))\n",
    "ax = plt.subplot(111)\n",
    "ax.bar(cnt_srs.index, cnt_srs.values, alpha=0.8)\n",
    "ax.xaxis_date()\n",
    "plt.xticks(rotation='vertical')\n",
    "plt.show()"
   ]
  },
  {
   "cell_type": "markdown",
   "id": "6537b986",
   "metadata": {},
   "source": [
    "В наборе данных train_data находятся данные с апреля по июнь 2016 года. Теперь посмотрим на набор данных test_data и убедимся, что они относятся к одному и тому же диапазону дат."
   ]
  },
  {
   "cell_type": "code",
   "execution_count": 638,
   "id": "8d9d16ff",
   "metadata": {},
   "outputs": [
    {
     "data": {
      "image/png": "[encoded data removed]",
      "text/plain": [
       "<Figure size 864x288 with 1 Axes>"
      ]
     },
     "metadata": {
      "needs_background": "light"
     },
     "output_type": "display_data"
    }
   ],
   "source": [
    "test_data[\"created\"] = pd.to_datetime(test_data[\"created\"])\n",
    "test_data[\"date_created\"] = test_data[\"created\"].dt.date\n",
    "cnt_srs = test_data['date_created'].value_counts()\n",
    "\n",
    "plt.figure(figsize=(12,4))\n",
    "ax = plt.subplot(111)\n",
    "ax.bar(cnt_srs.index, cnt_srs.values, alpha=0.8)\n",
    "ax.xaxis_date()\n",
    "plt.xticks(rotation='vertical')\n",
    "plt.show()"
   ]
  },
  {
   "cell_type": "markdown",
   "id": "53a1c94e",
   "metadata": {},
   "source": [
    "Так же посмотрим в какой диапазон времени наибольшая активность."
   ]
  },
  {
   "cell_type": "code",
   "execution_count": 639,
   "id": "b1e4c09b",
   "metadata": {},
   "outputs": [
    {
     "name": "stderr",
     "output_type": "stream",
     "text": [
      "C:\\Users\\Alex\\.virtualenvs\\two_sigma-X8MhgjZs\\lib\\site-packages\\seaborn\\_decorators.py:36: FutureWarning: Pass the following variables as keyword args: x, y. From version 0.12, the only valid positional argument will be `data`, and passing other arguments without an explicit keyword will result in an error or misinterpretation.\n",
      "  warnings.warn(\n"
     ]
    },
    {
     "data": {
      "image/png": "[encoded data removed]",
      "text/plain": [
       "<Figure size 864x432 with 1 Axes>"
      ]
     },
     "metadata": {
      "needs_background": "light"
     },
     "output_type": "display_data"
    }
   ],
   "source": [
    "train_data[\"hour_created\"] = train_data[\"created\"].dt.hour\n",
    "cnt_srs = train_data['hour_created'].value_counts()\n",
    "\n",
    "plt.figure(figsize=(12,6))\n",
    "sns.barplot(cnt_srs.index, cnt_srs.values, alpha=0.8, color=color[3])\n",
    "plt.xticks(rotation='vertical')\n",
    "plt.show()"
   ]
  },
  {
   "cell_type": "markdown",
   "id": "b9e0e257",
   "metadata": {},
   "source": [
    "C 1 до 7 утра наибольшая активность."
   ]
  },
  {
   "cell_type": "code",
   "execution_count": 640,
   "id": "a33715c2",
   "metadata": {},
   "outputs": [
    {
     "name": "stdout",
     "output_type": "stream",
     "text": [
      "Display_address, которые появляются менее 2 раз: 63.22%\n",
      "Display_address, которые появляются менее 10 раз: 89.6%\n",
      "Display_address, которые появляются менее 50 раз: 97.73%\n",
      "Display_address, которые появляются менее 100 раз: 99.26%\n",
      "Display_address, которые появляются менее 500 раз: 100.0%\n"
     ]
    },
    {
     "data": {
      "image/png": "[encoded data removed]",
      "text/plain": [
       "<Figure size 864x432 with 1 Axes>"
      ]
     },
     "metadata": {
      "needs_background": "light"
     },
     "output_type": "display_data"
    }
   ],
   "source": [
    "# Визуализация display_address\n",
    "\n",
    "cnt_srs = train_data.groupby('display_address')['display_address'].count()\n",
    "\n",
    "for i in [2, 10, 50, 100, 500]:\n",
    "    print('Display_address, которые появляются менее {} раз: {}%'.format(i, round((cnt_srs < i).mean() * 100, 2)))\n",
    "\n",
    "plt.figure(figsize=(12, 6))\n",
    "plt.hist(cnt_srs.values, bins=100, log=True, alpha=0.9)\n",
    "plt.xlabel('Количество отображений display_address', fontsize=12)\n",
    "plt.ylabel('log(Count)', fontsize=12)\n",
    "plt.show()"
   ]
  },
  {
   "cell_type": "markdown",
   "id": "0707a6ea",
   "metadata": {},
   "source": [
    "Большинство отображаемых адресов встречаются в наборе данных train_data менее 100 раз, и ни один из отображаемых адресов не встречается более 500 раз."
   ]
  },
  {
   "cell_type": "markdown",
   "id": "4e4b5c30",
   "metadata": {},
   "source": [
    "## Моделирование"
   ]
  },
  {
   "cell_type": "code",
   "execution_count": 641,
   "id": "84739300",
   "metadata": {},
   "outputs": [],
   "source": [
    "features_to_use  = [\"bathrooms\", \"bedrooms\", \"latitude\", \"longitude\", \"price\"]"
   ]
  },
  {
   "cell_type": "code",
   "execution_count": 642,
   "id": "35b65a4b",
   "metadata": {},
   "outputs": [],
   "source": [
    "train_data[\"num_photos\"] = train_data[\"photos\"].apply(len)\n",
    "test_data[\"num_photos\"] = test_data[\"photos\"].apply(len)\n",
    "\n",
    "train_data[\"num_features\"] = train_data[\"features\"].apply(len)\n",
    "test_data[\"num_features\"] = test_data[\"features\"].apply(len)\n",
    "\n",
    "train_data[\"num_description_words\"] = train_data[\"description\"].apply(lambda x: len(x.split(\" \")))\n",
    "test_data[\"num_description_words\"] = test_data[\"description\"].apply(lambda x: len(x.split(\" \")))\n",
    "\n",
    "train_data[\"created\"] = pd.to_datetime(train_data[\"created\"])\n",
    "test_data[\"created\"] = pd.to_datetime(test_data[\"created\"])\n",
    "\n",
    "train_data[\"created_year\"] = train_data[\"created\"].dt.year\n",
    "test_data[\"created_year\"] = test_data[\"created\"].dt.year\n",
    "\n",
    "train_data[\"created_month\"] = train_data[\"created\"].dt.month\n",
    "test_data[\"created_month\"] = test_data[\"created\"].dt.month\n",
    "\n",
    "train_data[\"created_day\"] = train_data[\"created\"].dt.day\n",
    "test_data[\"created_day\"] = test_data[\"created\"].dt.day\n",
    "\n",
    "train_data[\"created_dayofweek\"] = train_data[\"created\"].dt.dayofweek\n",
    "test_data[\"created_dayofweek\"] = test_data[\"created\"].dt.dayofweek\n",
    "\n",
    "train_data[\"created_hour\"] = train_data[\"created\"].dt.hour\n",
    "test_data[\"created_hour\"] = test_data[\"created\"].dt.hour\n",
    "\n",
    "\n",
    "features_to_use.extend([\"num_photos\", \"num_features\", \"num_description_words\",\n",
    "                        \"created_year\", \"created_month\", \"created_day\", \"listing_id\", \"created_dayofweek\", \"created_hour\"])"
   ]
  },
  {
   "cell_type": "markdown",
   "id": "0d4f3978",
   "metadata": {},
   "source": []
  },
  {
   "cell_type": "code",
   "execution_count": 643,
   "id": "aca5780e",
   "metadata": {},
   "outputs": [
    {
     "data": {
      "image/png": "[encoded data removed]",
      "text/plain": [
       "<Figure size 432x288 with 1 Axes>"
      ]
     },
     "metadata": {
      "needs_background": "light"
     },
     "output_type": "display_data"
    }
   ],
   "source": [
    "monthDF = train_data.groupby(['created_month', 'interest_level'])['created_month'].count().unstack('interest_level').fillna(0)\n",
    "monthDF[['low','medium','high']].plot(kind='bar', stacked=True);"
   ]
  },
  {
   "cell_type": "code",
   "execution_count": 644,
   "id": "5ca91b60",
   "metadata": {},
   "outputs": [
    {
     "data": {
      "text/plain": [
       "<AxesSubplot:>"
      ]
     },
     "execution_count": 644,
     "metadata": {},
     "output_type": "execute_result"
    },
    {
     "data": {
      "image/png": "[encoded data removed]",
      "text/plain": [
       "<Figure size 432x288 with 1 Axes>"
      ]
     },
     "metadata": {
      "needs_background": "light"
     },
     "output_type": "display_data"
    }
   ],
   "source": [
    "train_data.num_photos.value_counts().plot(kind='bar',color='purple')"
   ]
  },
  {
   "cell_type": "code",
   "execution_count": 645,
   "id": "6ade44f7",
   "metadata": {},
   "outputs": [
    {
     "data": {
      "text/plain": [
       "<AxesSubplot:xlabel='interest_level', ylabel='num_photos'>"
      ]
     },
     "execution_count": 645,
     "metadata": {},
     "output_type": "execute_result"
    },
    {
     "data": {
      "image/png": "[encoded data removed]",
      "text/plain": [
       "<Figure size 432x288 with 1 Axes>"
      ]
     },
     "metadata": {
      "needs_background": "light"
     },
     "output_type": "display_data"
    }
   ],
   "source": [
    "train_data['num_photos'].iloc[train_data['num_photos']>15] = 15\n",
    "sns.stripplot(y=\"num_photos\", x=\"interest_level\",data=train_data,jitter=True,order=order)"
   ]
  },
  {
   "cell_type": "markdown",
   "id": "aaf39af4",
   "metadata": {},
   "source": [
    "Данные распределены равномерно по уровням интереса."
   ]
  },
  {
   "cell_type": "code",
   "execution_count": 646,
   "id": "f1b1a91a",
   "metadata": {},
   "outputs": [
    {
     "data": {
      "text/plain": [
       "Text(0.5, 0, 'Number of features')"
      ]
     },
     "execution_count": 646,
     "metadata": {},
     "output_type": "execute_result"
    },
    {
     "data": {
      "image/png": "[encoded data removed]",
      "text/plain": [
       "<Figure size 432x288 with 1 Axes>"
      ]
     },
     "metadata": {
      "needs_background": "light"
     },
     "output_type": "display_data"
    }
   ],
   "source": [
    "train_data.num_features.value_counts().plot(kind='bar',color='orange')\n",
    "plt.xlabel(\"Number of features\")"
   ]
  },
  {
   "cell_type": "code",
   "execution_count": 647,
   "id": "a953c3ce",
   "metadata": {},
   "outputs": [
    {
     "data": {
      "text/plain": [
       "<AxesSubplot:xlabel='num_features', ylabel='interest_level'>"
      ]
     },
     "execution_count": 647,
     "metadata": {},
     "output_type": "execute_result"
    },
    {
     "data": {
      "image/png": "[encoded data removed]",
      "text/plain": [
       "<Figure size 432x288 with 1 Axes>"
      ]
     },
     "metadata": {
      "needs_background": "light"
     },
     "output_type": "display_data"
    }
   ],
   "source": [
    "train_data['num_features'].iloc[train_data['num_features'] > 16] = 16\n",
    "sns.stripplot(x=\"num_features\", y=\"interest_level\",data=train_data,jitter=True,order=order)"
   ]
  },
  {
   "cell_type": "markdown",
   "id": "8c2fc7c1",
   "metadata": {},
   "source": [
    "Данные распределены равномерно по уровням интереса."
   ]
  },
  {
   "cell_type": "markdown",
   "id": "a322d979",
   "metadata": {},
   "source": []
  },
  {
   "cell_type": "code",
   "execution_count": 648,
   "id": "bc56cf8d",
   "metadata": {},
   "outputs": [],
   "source": [
    "categorical = [\"display_address\", \"manager_id\", \"building_id\", \"street_address\"]\n",
    "for f in categorical:\n",
    "        if train_data[f].dtype=='object':\n",
    "            \n",
    "            lbl = preprocessing.LabelEncoder()\n",
    "            lbl.fit(list(train_data[f].values) + list(test_data[f].values))\n",
    "            train_data[f] = lbl.transform(list(train_data[f].values))\n",
    "            test_data[f] = lbl.transform(list(test_data[f].values))\n",
    "            features_to_use.append(f)"
   ]
  },
  {
   "cell_type": "code",
   "execution_count": 649,
   "id": "a18c2fae",
   "metadata": {},
   "outputs": [
    {
     "data": {
      "text/html": [
       "<div>\n",
       "<style scoped>\n",
       "    .dataframe tbody tr th:only-of-type {\n",
       "        vertical-align: middle;\n",
       "    }\n",
       "\n",
       "    .dataframe tbody tr th {\n",
       "        vertical-align: top;\n",
       "    }\n",
       "\n",
       "    .dataframe thead th {\n",
       "        text-align: right;\n",
       "    }\n",
       "</style>\n",
       "<table border=\"1\" class=\"dataframe\">\n",
       "  <thead>\n",
       "    <tr style=\"text-align: right;\">\n",
       "      <th></th>\n",
       "      <th>bathrooms</th>\n",
       "      <th>bedrooms</th>\n",
       "      <th>latitude</th>\n",
       "      <th>longitude</th>\n",
       "      <th>price</th>\n",
       "      <th>num_photos</th>\n",
       "      <th>num_features</th>\n",
       "      <th>num_description_words</th>\n",
       "      <th>created_year</th>\n",
       "      <th>created_month</th>\n",
       "      <th>created_day</th>\n",
       "      <th>listing_id</th>\n",
       "      <th>created_dayofweek</th>\n",
       "      <th>created_hour</th>\n",
       "      <th>display_address</th>\n",
       "      <th>manager_id</th>\n",
       "      <th>building_id</th>\n",
       "      <th>street_address</th>\n",
       "    </tr>\n",
       "  </thead>\n",
       "  <tbody>\n",
       "    <tr>\n",
       "      <th>4</th>\n",
       "      <td>1.0</td>\n",
       "      <td>1</td>\n",
       "      <td>40.7108</td>\n",
       "      <td>-73.9539</td>\n",
       "      <td>2400</td>\n",
       "      <td>12</td>\n",
       "      <td>7</td>\n",
       "      <td>77</td>\n",
       "      <td>2016</td>\n",
       "      <td>6</td>\n",
       "      <td>16</td>\n",
       "      <td>7170325</td>\n",
       "      <td>3</td>\n",
       "      <td>5</td>\n",
       "      <td>1887</td>\n",
       "      <td>2767</td>\n",
       "      <td>6083</td>\n",
       "      <td>3343</td>\n",
       "    </tr>\n",
       "    <tr>\n",
       "      <th>6</th>\n",
       "      <td>1.0</td>\n",
       "      <td>2</td>\n",
       "      <td>40.7513</td>\n",
       "      <td>-73.9722</td>\n",
       "      <td>3800</td>\n",
       "      <td>6</td>\n",
       "      <td>6</td>\n",
       "      <td>131</td>\n",
       "      <td>2016</td>\n",
       "      <td>6</td>\n",
       "      <td>1</td>\n",
       "      <td>7092344</td>\n",
       "      <td>2</td>\n",
       "      <td>5</td>\n",
       "      <td>10848</td>\n",
       "      <td>2565</td>\n",
       "      <td>8417</td>\n",
       "      <td>9008</td>\n",
       "    </tr>\n",
       "    <tr>\n",
       "      <th>9</th>\n",
       "      <td>1.0</td>\n",
       "      <td>2</td>\n",
       "      <td>40.7575</td>\n",
       "      <td>-73.9625</td>\n",
       "      <td>3495</td>\n",
       "      <td>6</td>\n",
       "      <td>6</td>\n",
       "      <td>119</td>\n",
       "      <td>2016</td>\n",
       "      <td>6</td>\n",
       "      <td>14</td>\n",
       "      <td>7158677</td>\n",
       "      <td>1</td>\n",
       "      <td>15</td>\n",
       "      <td>10904</td>\n",
       "      <td>3458</td>\n",
       "      <td>9344</td>\n",
       "      <td>16634</td>\n",
       "    </tr>\n",
       "    <tr>\n",
       "      <th>10</th>\n",
       "      <td>1.5</td>\n",
       "      <td>3</td>\n",
       "      <td>40.7145</td>\n",
       "      <td>-73.9425</td>\n",
       "      <td>3000</td>\n",
       "      <td>5</td>\n",
       "      <td>0</td>\n",
       "      <td>95</td>\n",
       "      <td>2016</td>\n",
       "      <td>6</td>\n",
       "      <td>24</td>\n",
       "      <td>7211212</td>\n",
       "      <td>4</td>\n",
       "      <td>7</td>\n",
       "      <td>12282</td>\n",
       "      <td>1568</td>\n",
       "      <td>3797</td>\n",
       "      <td>23484</td>\n",
       "    </tr>\n",
       "    <tr>\n",
       "      <th>15</th>\n",
       "      <td>1.0</td>\n",
       "      <td>0</td>\n",
       "      <td>40.7439</td>\n",
       "      <td>-73.9743</td>\n",
       "      <td>2795</td>\n",
       "      <td>4</td>\n",
       "      <td>4</td>\n",
       "      <td>41</td>\n",
       "      <td>2016</td>\n",
       "      <td>6</td>\n",
       "      <td>28</td>\n",
       "      <td>7225292</td>\n",
       "      <td>1</td>\n",
       "      <td>3</td>\n",
       "      <td>10791</td>\n",
       "      <td>790</td>\n",
       "      <td>8717</td>\n",
       "      <td>14705</td>\n",
       "    </tr>\n",
       "    <tr>\n",
       "      <th>...</th>\n",
       "      <td>...</td>\n",
       "      <td>...</td>\n",
       "      <td>...</td>\n",
       "      <td>...</td>\n",
       "      <td>...</td>\n",
       "      <td>...</td>\n",
       "      <td>...</td>\n",
       "      <td>...</td>\n",
       "      <td>...</td>\n",
       "      <td>...</td>\n",
       "      <td>...</td>\n",
       "      <td>...</td>\n",
       "      <td>...</td>\n",
       "      <td>...</td>\n",
       "      <td>...</td>\n",
       "      <td>...</td>\n",
       "      <td>...</td>\n",
       "      <td>...</td>\n",
       "    </tr>\n",
       "    <tr>\n",
       "      <th>124000</th>\n",
       "      <td>1.0</td>\n",
       "      <td>3</td>\n",
       "      <td>40.8433</td>\n",
       "      <td>-73.9396</td>\n",
       "      <td>2800</td>\n",
       "      <td>5</td>\n",
       "      <td>3</td>\n",
       "      <td>131</td>\n",
       "      <td>2016</td>\n",
       "      <td>4</td>\n",
       "      <td>5</td>\n",
       "      <td>6824800</td>\n",
       "      <td>1</td>\n",
       "      <td>3</td>\n",
       "      <td>13913</td>\n",
       "      <td>2855</td>\n",
       "      <td>6650</td>\n",
       "      <td>21739</td>\n",
       "    </tr>\n",
       "    <tr>\n",
       "      <th>124002</th>\n",
       "      <td>1.0</td>\n",
       "      <td>2</td>\n",
       "      <td>40.8198</td>\n",
       "      <td>-73.9578</td>\n",
       "      <td>2395</td>\n",
       "      <td>5</td>\n",
       "      <td>7</td>\n",
       "      <td>70</td>\n",
       "      <td>2016</td>\n",
       "      <td>4</td>\n",
       "      <td>2</td>\n",
       "      <td>6813268</td>\n",
       "      <td>5</td>\n",
       "      <td>2</td>\n",
       "      <td>8793</td>\n",
       "      <td>2456</td>\n",
       "      <td>3886</td>\n",
       "      <td>14268</td>\n",
       "    </tr>\n",
       "    <tr>\n",
       "      <th>124004</th>\n",
       "      <td>1.0</td>\n",
       "      <td>1</td>\n",
       "      <td>40.6404</td>\n",
       "      <td>-73.9554</td>\n",
       "      <td>1850</td>\n",
       "      <td>3</td>\n",
       "      <td>11</td>\n",
       "      <td>81</td>\n",
       "      <td>2016</td>\n",
       "      <td>4</td>\n",
       "      <td>26</td>\n",
       "      <td>6927093</td>\n",
       "      <td>1</td>\n",
       "      <td>5</td>\n",
       "      <td>3036</td>\n",
       "      <td>2767</td>\n",
       "      <td>4739</td>\n",
       "      <td>7370</td>\n",
       "    </tr>\n",
       "    <tr>\n",
       "      <th>124008</th>\n",
       "      <td>1.0</td>\n",
       "      <td>2</td>\n",
       "      <td>40.7448</td>\n",
       "      <td>-74.0017</td>\n",
       "      <td>4195</td>\n",
       "      <td>5</td>\n",
       "      <td>5</td>\n",
       "      <td>118</td>\n",
       "      <td>2016</td>\n",
       "      <td>4</td>\n",
       "      <td>19</td>\n",
       "      <td>6892816</td>\n",
       "      <td>1</td>\n",
       "      <td>2</td>\n",
       "      <td>15223</td>\n",
       "      <td>3378</td>\n",
       "      <td>2729</td>\n",
       "      <td>15266</td>\n",
       "    </tr>\n",
       "    <tr>\n",
       "      <th>124009</th>\n",
       "      <td>1.0</td>\n",
       "      <td>3</td>\n",
       "      <td>40.7594</td>\n",
       "      <td>-73.9712</td>\n",
       "      <td>4280</td>\n",
       "      <td>8</td>\n",
       "      <td>6</td>\n",
       "      <td>58</td>\n",
       "      <td>2016</td>\n",
       "      <td>4</td>\n",
       "      <td>20</td>\n",
       "      <td>6901023</td>\n",
       "      <td>2</td>\n",
       "      <td>5</td>\n",
       "      <td>9804</td>\n",
       "      <td>4000</td>\n",
       "      <td>9886</td>\n",
       "      <td>2088</td>\n",
       "    </tr>\n",
       "  </tbody>\n",
       "</table>\n",
       "<p>49352 rows × 18 columns</p>\n",
       "</div>"
      ],
      "text/plain": [
       "        bathrooms  bedrooms  latitude  longitude  price  num_photos  \\\n",
       "4             1.0         1   40.7108   -73.9539   2400          12   \n",
       "6             1.0         2   40.7513   -73.9722   3800           6   \n",
       "9             1.0         2   40.7575   -73.9625   3495           6   \n",
       "10            1.5         3   40.7145   -73.9425   3000           5   \n",
       "15            1.0         0   40.7439   -73.9743   2795           4   \n",
       "...           ...       ...       ...        ...    ...         ...   \n",
       "124000        1.0         3   40.8433   -73.9396   2800           5   \n",
       "124002        1.0         2   40.8198   -73.9578   2395           5   \n",
       "124004        1.0         1   40.6404   -73.9554   1850           3   \n",
       "124008        1.0         2   40.7448   -74.0017   4195           5   \n",
       "124009        1.0         3   40.7594   -73.9712   4280           8   \n",
       "\n",
       "        num_features  num_description_words  created_year  created_month  \\\n",
       "4                  7                     77          2016              6   \n",
       "6                  6                    131          2016              6   \n",
       "9                  6                    119          2016              6   \n",
       "10                 0                     95          2016              6   \n",
       "15                 4                     41          2016              6   \n",
       "...              ...                    ...           ...            ...   \n",
       "124000             3                    131          2016              4   \n",
       "124002             7                     70          2016              4   \n",
       "124004            11                     81          2016              4   \n",
       "124008             5                    118          2016              4   \n",
       "124009             6                     58          2016              4   \n",
       "\n",
       "        created_day  listing_id  created_dayofweek  created_hour  \\\n",
       "4                16     7170325                  3             5   \n",
       "6                 1     7092344                  2             5   \n",
       "9                14     7158677                  1            15   \n",
       "10               24     7211212                  4             7   \n",
       "15               28     7225292                  1             3   \n",
       "...             ...         ...                ...           ...   \n",
       "124000            5     6824800                  1             3   \n",
       "124002            2     6813268                  5             2   \n",
       "124004           26     6927093                  1             5   \n",
       "124008           19     6892816                  1             2   \n",
       "124009           20     6901023                  2             5   \n",
       "\n",
       "        display_address  manager_id  building_id  street_address  \n",
       "4                  1887        2767         6083            3343  \n",
       "6                 10848        2565         8417            9008  \n",
       "9                 10904        3458         9344           16634  \n",
       "10                12282        1568         3797           23484  \n",
       "15                10791         790         8717           14705  \n",
       "...                 ...         ...          ...             ...  \n",
       "124000            13913        2855         6650           21739  \n",
       "124002             8793        2456         3886           14268  \n",
       "124004             3036        2767         4739            7370  \n",
       "124008            15223        3378         2729           15266  \n",
       "124009             9804        4000         9886            2088  \n",
       "\n",
       "[49352 rows x 18 columns]"
      ]
     },
     "execution_count": 649,
     "metadata": {},
     "output_type": "execute_result"
    }
   ],
   "source": [
    "train_data[features_to_use]"
   ]
  },
  {
   "cell_type": "code",
   "execution_count": 650,
   "id": "cca4f4f0",
   "metadata": {},
   "outputs": [],
   "source": [
    "X = train_data[features_to_use]\n",
    "y = train_data[\"interest_level\"]"
   ]
  },
  {
   "cell_type": "code",
   "execution_count": 651,
   "id": "937b39d6",
   "metadata": {},
   "outputs": [],
   "source": [
    "X_train, X_val, y_train, y_val = train_test_split(X, y, test_size=0.33)"
   ]
  },
  {
   "cell_type": "markdown",
   "id": "8024f0e3",
   "metadata": {},
   "source": [
    "## Baseline"
   ]
  },
  {
   "cell_type": "code",
   "execution_count": 652,
   "id": "bde6961a",
   "metadata": {},
   "outputs": [
    {
     "data": {
      "text/plain": [
       "0.608531599749708"
      ]
     },
     "execution_count": 652,
     "metadata": {},
     "output_type": "execute_result"
    }
   ],
   "source": [
    "clf = RandomForestClassifier(n_estimators=1000, random_state=123, n_jobs=-1, min_samples_leaf=5)\n",
    "clf.fit(X_train, y_train)\n",
    "y_val_pred = clf.predict_proba(X_val)\n",
    "log_loss(y_val, y_val_pred)"
   ]
  },
  {
   "cell_type": "code",
   "execution_count": 653,
   "id": "4f94ca88",
   "metadata": {},
   "outputs": [
    {
     "data": {
      "text/plain": [
       "<AxesSubplot:>"
      ]
     },
     "execution_count": 653,
     "metadata": {},
     "output_type": "execute_result"
    },
    {
     "data": {
      "image/png": "[encoded data removed]",
      "text/plain": [
       "<Figure size 432x288 with 1 Axes>"
      ]
     },
     "metadata": {
      "needs_background": "light"
     },
     "output_type": "display_data"
    }
   ],
   "source": [
    "# Визуализация важных признаков: price является самым важным признаком, \n",
    "# затем следуют building_id, latitude, longitude, num_description_words\n",
    "\n",
    "pd.Series(index = features_to_use, data = clf.feature_importances_).sort_values().plot(kind = 'bar')"
   ]
  },
  {
   "cell_type": "code",
   "execution_count": 654,
   "id": "c74c3bac",
   "metadata": {},
   "outputs": [
    {
     "data": {
      "text/plain": [
       "RandomForestClassifier(min_samples_leaf=5, n_estimators=1000, n_jobs=-1,\n",
       "                       random_state=123)"
      ]
     },
     "execution_count": 654,
     "metadata": {},
     "output_type": "execute_result"
    }
   ],
   "source": [
    "clf.fit(X, y)"
   ]
  },
  {
   "cell_type": "code",
   "execution_count": 655,
   "id": "4b6c1fb0",
   "metadata": {},
   "outputs": [],
   "source": [
    "X_test = test_data[features_to_use]\n",
    "\n",
    "y_test = clf.predict_proba(X_test)"
   ]
  },
  {
   "cell_type": "code",
   "execution_count": 656,
   "id": "a73970cf",
   "metadata": {},
   "outputs": [
    {
     "data": {
      "text/plain": [
       "{'high': 0, 'low': 1, 'medium': 2}"
      ]
     },
     "execution_count": 656,
     "metadata": {},
     "output_type": "execute_result"
    }
   ],
   "source": [
    "labels2idx = {label: i for i, label in enumerate(clf.classes_)}\n",
    "labels2idx"
   ]
  },
  {
   "cell_type": "code",
   "execution_count": 657,
   "id": "460555e9",
   "metadata": {},
   "outputs": [],
   "source": [
    "sub = pd.DataFrame()\n",
    "sub[\"listing_id\"] = test_data[\"listing_id\"]\n",
    "for label in [\"high\", \"medium\", \"low\"]:\n",
    "    sub[label] = y_test[:, labels2idx[label]]\n",
    "sub.to_csv(\"submission7.csv\", index=False)"
   ]
  },
  {
   "cell_type": "code",
   "execution_count": 658,
   "id": "9eb73a64",
   "metadata": {},
   "outputs": [
    {
     "data": {
      "text/html": [
       "<div>\n",
       "<style scoped>\n",
       "    .dataframe tbody tr th:only-of-type {\n",
       "        vertical-align: middle;\n",
       "    }\n",
       "\n",
       "    .dataframe tbody tr th {\n",
       "        vertical-align: top;\n",
       "    }\n",
       "\n",
       "    .dataframe thead th {\n",
       "        text-align: right;\n",
       "    }\n",
       "</style>\n",
       "<table border=\"1\" class=\"dataframe\">\n",
       "  <thead>\n",
       "    <tr style=\"text-align: right;\">\n",
       "      <th></th>\n",
       "      <th>listing_id</th>\n",
       "      <th>high</th>\n",
       "      <th>medium</th>\n",
       "      <th>low</th>\n",
       "    </tr>\n",
       "  </thead>\n",
       "  <tbody>\n",
       "    <tr>\n",
       "      <th>0</th>\n",
       "      <td>7142618</td>\n",
       "      <td>0.081379</td>\n",
       "      <td>0.392321</td>\n",
       "      <td>0.526300</td>\n",
       "    </tr>\n",
       "    <tr>\n",
       "      <th>1</th>\n",
       "      <td>7210040</td>\n",
       "      <td>0.054081</td>\n",
       "      <td>0.131993</td>\n",
       "      <td>0.813926</td>\n",
       "    </tr>\n",
       "    <tr>\n",
       "      <th>2</th>\n",
       "      <td>7174566</td>\n",
       "      <td>0.001850</td>\n",
       "      <td>0.017784</td>\n",
       "      <td>0.980366</td>\n",
       "    </tr>\n",
       "    <tr>\n",
       "      <th>3</th>\n",
       "      <td>7191391</td>\n",
       "      <td>0.233968</td>\n",
       "      <td>0.350751</td>\n",
       "      <td>0.415281</td>\n",
       "    </tr>\n",
       "    <tr>\n",
       "      <th>4</th>\n",
       "      <td>7171695</td>\n",
       "      <td>0.021975</td>\n",
       "      <td>0.161750</td>\n",
       "      <td>0.816275</td>\n",
       "    </tr>\n",
       "    <tr>\n",
       "      <th>...</th>\n",
       "      <td>...</td>\n",
       "      <td>...</td>\n",
       "      <td>...</td>\n",
       "      <td>...</td>\n",
       "    </tr>\n",
       "    <tr>\n",
       "      <th>74654</th>\n",
       "      <td>6928108</td>\n",
       "      <td>0.521475</td>\n",
       "      <td>0.301471</td>\n",
       "      <td>0.177053</td>\n",
       "    </tr>\n",
       "    <tr>\n",
       "      <th>74655</th>\n",
       "      <td>6906674</td>\n",
       "      <td>0.081495</td>\n",
       "      <td>0.271410</td>\n",
       "      <td>0.647095</td>\n",
       "    </tr>\n",
       "    <tr>\n",
       "      <th>74656</th>\n",
       "      <td>6897967</td>\n",
       "      <td>0.005294</td>\n",
       "      <td>0.042059</td>\n",
       "      <td>0.952647</td>\n",
       "    </tr>\n",
       "    <tr>\n",
       "      <th>74657</th>\n",
       "      <td>6842183</td>\n",
       "      <td>0.003613</td>\n",
       "      <td>0.049807</td>\n",
       "      <td>0.946580</td>\n",
       "    </tr>\n",
       "    <tr>\n",
       "      <th>74658</th>\n",
       "      <td>6889319</td>\n",
       "      <td>0.085144</td>\n",
       "      <td>0.223901</td>\n",
       "      <td>0.690954</td>\n",
       "    </tr>\n",
       "  </tbody>\n",
       "</table>\n",
       "<p>74659 rows × 4 columns</p>\n",
       "</div>"
      ],
      "text/plain": [
       "       listing_id      high    medium       low\n",
       "0         7142618  0.081379  0.392321  0.526300\n",
       "1         7210040  0.054081  0.131993  0.813926\n",
       "2         7174566  0.001850  0.017784  0.980366\n",
       "3         7191391  0.233968  0.350751  0.415281\n",
       "4         7171695  0.021975  0.161750  0.816275\n",
       "...           ...       ...       ...       ...\n",
       "74654     6928108  0.521475  0.301471  0.177053\n",
       "74655     6906674  0.081495  0.271410  0.647095\n",
       "74656     6897967  0.005294  0.042059  0.952647\n",
       "74657     6842183  0.003613  0.049807  0.946580\n",
       "74658     6889319  0.085144  0.223901  0.690954\n",
       "\n",
       "[74659 rows x 4 columns]"
      ]
     },
     "execution_count": 658,
     "metadata": {},
     "output_type": "execute_result"
    }
   ],
   "source": [
    "pd.read_csv(\"C:\\\\Users\\\\Alex\\\\Desktop\\\\two_sigma\\\\submission7.csv\")"
   ]
  }
 ],
 "metadata": {
  "kernelspec": {
   "display_name": "Python 3 (ipykernel)",
   "language": "python",
   "name": "python3"
  },
  "language_info": {
   "codemirror_mode": {
    "name": "ipython",
    "version": 3
   },
   "file_extension": ".py",
   "mimetype": "text/x-python",
   "name": "python",
   "nbconvert_exporter": "python",
   "pygments_lexer": "ipython3",
   "version": "3.10.0"
  }
 },
 "nbformat": 4,
 "nbformat_minor": 5
}
